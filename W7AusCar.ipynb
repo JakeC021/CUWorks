{
  "cells": [
    {
      "cell_type": "markdown",
      "metadata": {
        "id": "7FBmYoBeJORL"
      },
      "source": [
        "# **1**. Project Topic\n",
        "This dataset contains the latest information on car prices in Australia for the year 2023. It covers various brands, models, types, and features of cars sold in the Australian market. It provides useful insights into the trends and factors influencing the car prices in Australia.\n",
        "\n",
        "We will predict the price. Therefore, we will use regression to solve the problem.\n"
      ]
    },
    {
      "cell_type": "markdown",
      "metadata": {
        "id": "qPLEjSZupRKZ"
      },
      "source": [
        "# **2**. Data\n",
        "\n",
        "The dataset includes information such as brand, year, model, car/suv, title, used/new, transmission, engine, drive type, fuel type, fuel consumption, kilometres, colour (exterior/interior), location, cylinders in engine, body type, doors, seats, and price. The dataset has over 16,000 records of car listings from various online platforms in Australia.\n",
        "\n",
        "---\n",
        "**Reference:**  \n",
        "Nelgiriyewithana. (2023). *Australian Vehicle Prices* [Data set]. Kaggle. https://www.kaggle.com/datasets/nelgiriyewithana/australian-vehicle-prices\n",
        "\n"
      ]
    },
    {
      "cell_type": "code",
      "execution_count": 1,
      "metadata": {
        "id": "Pd2vLRz_MsNJ"
      },
      "outputs": [],
      "source": [
        "from matplotlib import pyplot as plt\n",
        "import seaborn as sns\n",
        "import pandas as pd\n",
        "from sklearn.preprocessing import LabelEncoder\n",
        "\n",
        "from sklearn.model_selection import train_test_split\n",
        "from sklearn.preprocessing import StandardScaler\n",
        "from sklearn.decomposition import PCA\n",
        "from sklearn.model_selection import cross_val_score\n",
        "\n",
        "from sklearn.metrics import mean_squared_error, mean_absolute_error, r2_score\n",
        "import numpy as np\n",
        "\n",
        "from sklearn.ensemble import RandomForestRegressor, GradientBoostingRegressor\n",
        "from xgboost import XGBRegressor\n",
        "\n",
        "from sklearn.model_selection import GridSearchCV\n"
      ]
    },
    {
      "cell_type": "markdown",
      "metadata": {
        "id": "W9VVQwKtMlYK"
      },
      "source": [
        "## 2.1 Fectch the data"
      ]
    },
    {
      "cell_type": "code",
      "execution_count": 2,
      "metadata": {
        "colab": {
          "base_uri": "https://localhost:8080/"
        },
        "id": "scbxpGZxCuXV",
        "outputId": "48c1a347-0473-4798-9f87-b9974c99fd07"
      },
      "outputs": [],
      "source": [
        "df = pd.read_csv(\"Australian Vehicle Prices.csv\")"
      ]
    },
    {
      "cell_type": "markdown",
      "metadata": {
        "id": "hrN3f4vKW2X8"
      },
      "source": [
        "## 2.2 EDA"
      ]
    },
    {
      "cell_type": "markdown",
      "metadata": {
        "id": "WtWxB92lxwaq"
      },
      "source": [
        "### *2.2.1 Understand the features and their values*"
      ]
    },
    {
      "cell_type": "code",
      "execution_count": 3,
      "metadata": {
        "colab": {
          "base_uri": "https://localhost:8080/",
          "height": 504
        },
        "id": "Otb3-GswDfFP",
        "outputId": "0b066213-8b3f-4c48-81c3-e4be6b26d12f"
      },
      "outputs": [
        {
          "data": {
            "application/vnd.microsoft.datawrangler.viewer.v0+json": {
              "columns": [
                {
                  "name": "index",
                  "rawType": "int64",
                  "type": "integer"
                },
                {
                  "name": "Brand",
                  "rawType": "object",
                  "type": "string"
                },
                {
                  "name": "Year",
                  "rawType": "float64",
                  "type": "float"
                },
                {
                  "name": "Model",
                  "rawType": "object",
                  "type": "string"
                },
                {
                  "name": "Car/Suv",
                  "rawType": "object",
                  "type": "string"
                },
                {
                  "name": "Title",
                  "rawType": "object",
                  "type": "string"
                },
                {
                  "name": "UsedOrNew",
                  "rawType": "object",
                  "type": "string"
                },
                {
                  "name": "Transmission",
                  "rawType": "object",
                  "type": "string"
                },
                {
                  "name": "Engine",
                  "rawType": "object",
                  "type": "string"
                },
                {
                  "name": "DriveType",
                  "rawType": "object",
                  "type": "string"
                },
                {
                  "name": "FuelType",
                  "rawType": "object",
                  "type": "string"
                },
                {
                  "name": "FuelConsumption",
                  "rawType": "object",
                  "type": "string"
                },
                {
                  "name": "Kilometres",
                  "rawType": "object",
                  "type": "string"
                },
                {
                  "name": "ColourExtInt",
                  "rawType": "object",
                  "type": "string"
                },
                {
                  "name": "Location",
                  "rawType": "object",
                  "type": "string"
                },
                {
                  "name": "CylindersinEngine",
                  "rawType": "object",
                  "type": "string"
                },
                {
                  "name": "BodyType",
                  "rawType": "object",
                  "type": "string"
                },
                {
                  "name": "Doors",
                  "rawType": "object",
                  "type": "string"
                },
                {
                  "name": "Seats",
                  "rawType": "object",
                  "type": "string"
                },
                {
                  "name": "Price",
                  "rawType": "object",
                  "type": "string"
                }
              ],
              "ref": "3e93bf7c-7b6a-407f-9aeb-cbdf2763adfa",
              "rows": [
                [
                  "0",
                  "Ssangyong",
                  "2022.0",
                  "Rexton",
                  "Sutherland Isuzu Ute",
                  "2022 Ssangyong Rexton Ultimate (awd)",
                  "DEMO",
                  "Automatic",
                  "4 cyl, 2.2 L",
                  "AWD",
                  "Diesel",
                  "8.7 L / 100 km",
                  "5595",
                  "White / Black",
                  "Caringbah, NSW",
                  "4 cyl",
                  "SUV",
                  " 4 Doors",
                  " 7 Seats",
                  "51990"
                ],
                [
                  "1",
                  "MG",
                  "2022.0",
                  "MG3",
                  "Hatchback",
                  "2022 MG MG3 Auto Excite (with Navigation)",
                  "USED",
                  "Automatic",
                  "4 cyl, 1.5 L",
                  "Front",
                  "Premium",
                  "6.7 L / 100 km",
                  "16",
                  "Black / Black",
                  "Brookvale, NSW",
                  "4 cyl",
                  "Hatchback",
                  " 5 Doors",
                  " 5 Seats",
                  "19990"
                ],
                [
                  "2",
                  "BMW",
                  "2022.0",
                  "430I",
                  "Coupe",
                  "2022 BMW 430I M Sport",
                  "USED",
                  "Automatic",
                  "4 cyl, 2 L",
                  "Rear",
                  "Premium",
                  "6.6 L / 100 km",
                  "8472",
                  "Grey / White",
                  "Sylvania, NSW",
                  "4 cyl",
                  "Coupe",
                  " 2 Doors",
                  " 4 Seats",
                  "108988"
                ],
                [
                  "3",
                  "Mercedes-Benz",
                  "2011.0",
                  "E500",
                  "Coupe",
                  "2011 Mercedes-Benz E500 Elegance",
                  "USED",
                  "Automatic",
                  "8 cyl, 5.5 L",
                  "Rear",
                  "Premium",
                  "11 L / 100 km",
                  "136517",
                  "White / Brown",
                  "Mount Druitt, NSW",
                  "8 cyl",
                  "Coupe",
                  " 2 Doors",
                  " 4 Seats",
                  "32990"
                ],
                [
                  "4",
                  "Renault",
                  "2022.0",
                  "Arkana",
                  "SUV",
                  "2022 Renault Arkana Intens",
                  "USED",
                  "Automatic",
                  "4 cyl, 1.3 L",
                  "Front",
                  "Unleaded",
                  "6 L / 100 km",
                  "1035",
                  "Grey / Black",
                  "Castle Hill, NSW",
                  "4 cyl",
                  "SUV",
                  " 4 Doors",
                  " 5 Seats",
                  "34990"
                ]
              ],
              "shape": {
                "columns": 19,
                "rows": 5
              }
            },
            "text/html": [
              "<div>\n",
              "<style scoped>\n",
              "    .dataframe tbody tr th:only-of-type {\n",
              "        vertical-align: middle;\n",
              "    }\n",
              "\n",
              "    .dataframe tbody tr th {\n",
              "        vertical-align: top;\n",
              "    }\n",
              "\n",
              "    .dataframe thead th {\n",
              "        text-align: right;\n",
              "    }\n",
              "</style>\n",
              "<table border=\"1\" class=\"dataframe\">\n",
              "  <thead>\n",
              "    <tr style=\"text-align: right;\">\n",
              "      <th></th>\n",
              "      <th>Brand</th>\n",
              "      <th>Year</th>\n",
              "      <th>Model</th>\n",
              "      <th>Car/Suv</th>\n",
              "      <th>Title</th>\n",
              "      <th>UsedOrNew</th>\n",
              "      <th>Transmission</th>\n",
              "      <th>Engine</th>\n",
              "      <th>DriveType</th>\n",
              "      <th>FuelType</th>\n",
              "      <th>FuelConsumption</th>\n",
              "      <th>Kilometres</th>\n",
              "      <th>ColourExtInt</th>\n",
              "      <th>Location</th>\n",
              "      <th>CylindersinEngine</th>\n",
              "      <th>BodyType</th>\n",
              "      <th>Doors</th>\n",
              "      <th>Seats</th>\n",
              "      <th>Price</th>\n",
              "    </tr>\n",
              "  </thead>\n",
              "  <tbody>\n",
              "    <tr>\n",
              "      <th>0</th>\n",
              "      <td>Ssangyong</td>\n",
              "      <td>2022.0</td>\n",
              "      <td>Rexton</td>\n",
              "      <td>Sutherland Isuzu Ute</td>\n",
              "      <td>2022 Ssangyong Rexton Ultimate (awd)</td>\n",
              "      <td>DEMO</td>\n",
              "      <td>Automatic</td>\n",
              "      <td>4 cyl, 2.2 L</td>\n",
              "      <td>AWD</td>\n",
              "      <td>Diesel</td>\n",
              "      <td>8.7 L / 100 km</td>\n",
              "      <td>5595</td>\n",
              "      <td>White / Black</td>\n",
              "      <td>Caringbah, NSW</td>\n",
              "      <td>4 cyl</td>\n",
              "      <td>SUV</td>\n",
              "      <td>4 Doors</td>\n",
              "      <td>7 Seats</td>\n",
              "      <td>51990</td>\n",
              "    </tr>\n",
              "    <tr>\n",
              "      <th>1</th>\n",
              "      <td>MG</td>\n",
              "      <td>2022.0</td>\n",
              "      <td>MG3</td>\n",
              "      <td>Hatchback</td>\n",
              "      <td>2022 MG MG3 Auto Excite (with Navigation)</td>\n",
              "      <td>USED</td>\n",
              "      <td>Automatic</td>\n",
              "      <td>4 cyl, 1.5 L</td>\n",
              "      <td>Front</td>\n",
              "      <td>Premium</td>\n",
              "      <td>6.7 L / 100 km</td>\n",
              "      <td>16</td>\n",
              "      <td>Black / Black</td>\n",
              "      <td>Brookvale, NSW</td>\n",
              "      <td>4 cyl</td>\n",
              "      <td>Hatchback</td>\n",
              "      <td>5 Doors</td>\n",
              "      <td>5 Seats</td>\n",
              "      <td>19990</td>\n",
              "    </tr>\n",
              "    <tr>\n",
              "      <th>2</th>\n",
              "      <td>BMW</td>\n",
              "      <td>2022.0</td>\n",
              "      <td>430I</td>\n",
              "      <td>Coupe</td>\n",
              "      <td>2022 BMW 430I M Sport</td>\n",
              "      <td>USED</td>\n",
              "      <td>Automatic</td>\n",
              "      <td>4 cyl, 2 L</td>\n",
              "      <td>Rear</td>\n",
              "      <td>Premium</td>\n",
              "      <td>6.6 L / 100 km</td>\n",
              "      <td>8472</td>\n",
              "      <td>Grey / White</td>\n",
              "      <td>Sylvania, NSW</td>\n",
              "      <td>4 cyl</td>\n",
              "      <td>Coupe</td>\n",
              "      <td>2 Doors</td>\n",
              "      <td>4 Seats</td>\n",
              "      <td>108988</td>\n",
              "    </tr>\n",
              "    <tr>\n",
              "      <th>3</th>\n",
              "      <td>Mercedes-Benz</td>\n",
              "      <td>2011.0</td>\n",
              "      <td>E500</td>\n",
              "      <td>Coupe</td>\n",
              "      <td>2011 Mercedes-Benz E500 Elegance</td>\n",
              "      <td>USED</td>\n",
              "      <td>Automatic</td>\n",
              "      <td>8 cyl, 5.5 L</td>\n",
              "      <td>Rear</td>\n",
              "      <td>Premium</td>\n",
              "      <td>11 L / 100 km</td>\n",
              "      <td>136517</td>\n",
              "      <td>White / Brown</td>\n",
              "      <td>Mount Druitt, NSW</td>\n",
              "      <td>8 cyl</td>\n",
              "      <td>Coupe</td>\n",
              "      <td>2 Doors</td>\n",
              "      <td>4 Seats</td>\n",
              "      <td>32990</td>\n",
              "    </tr>\n",
              "    <tr>\n",
              "      <th>4</th>\n",
              "      <td>Renault</td>\n",
              "      <td>2022.0</td>\n",
              "      <td>Arkana</td>\n",
              "      <td>SUV</td>\n",
              "      <td>2022 Renault Arkana Intens</td>\n",
              "      <td>USED</td>\n",
              "      <td>Automatic</td>\n",
              "      <td>4 cyl, 1.3 L</td>\n",
              "      <td>Front</td>\n",
              "      <td>Unleaded</td>\n",
              "      <td>6 L / 100 km</td>\n",
              "      <td>1035</td>\n",
              "      <td>Grey / Black</td>\n",
              "      <td>Castle Hill, NSW</td>\n",
              "      <td>4 cyl</td>\n",
              "      <td>SUV</td>\n",
              "      <td>4 Doors</td>\n",
              "      <td>5 Seats</td>\n",
              "      <td>34990</td>\n",
              "    </tr>\n",
              "  </tbody>\n",
              "</table>\n",
              "</div>"
            ],
            "text/plain": [
              "           Brand    Year   Model               Car/Suv  \\\n",
              "0      Ssangyong  2022.0  Rexton  Sutherland Isuzu Ute   \n",
              "1             MG  2022.0     MG3             Hatchback   \n",
              "2            BMW  2022.0    430I                 Coupe   \n",
              "3  Mercedes-Benz  2011.0    E500                 Coupe   \n",
              "4        Renault  2022.0  Arkana                   SUV   \n",
              "\n",
              "                                       Title UsedOrNew Transmission  \\\n",
              "0       2022 Ssangyong Rexton Ultimate (awd)      DEMO    Automatic   \n",
              "1  2022 MG MG3 Auto Excite (with Navigation)      USED    Automatic   \n",
              "2                      2022 BMW 430I M Sport      USED    Automatic   \n",
              "3           2011 Mercedes-Benz E500 Elegance      USED    Automatic   \n",
              "4                 2022 Renault Arkana Intens      USED    Automatic   \n",
              "\n",
              "         Engine DriveType  FuelType FuelConsumption Kilometres   ColourExtInt  \\\n",
              "0  4 cyl, 2.2 L       AWD    Diesel  8.7 L / 100 km       5595  White / Black   \n",
              "1  4 cyl, 1.5 L     Front   Premium  6.7 L / 100 km         16  Black / Black   \n",
              "2    4 cyl, 2 L      Rear   Premium  6.6 L / 100 km       8472   Grey / White   \n",
              "3  8 cyl, 5.5 L      Rear   Premium   11 L / 100 km     136517  White / Brown   \n",
              "4  4 cyl, 1.3 L     Front  Unleaded    6 L / 100 km       1035   Grey / Black   \n",
              "\n",
              "            Location CylindersinEngine   BodyType     Doors     Seats   Price  \n",
              "0     Caringbah, NSW             4 cyl        SUV   4 Doors   7 Seats   51990  \n",
              "1     Brookvale, NSW             4 cyl  Hatchback   5 Doors   5 Seats   19990  \n",
              "2      Sylvania, NSW             4 cyl      Coupe   2 Doors   4 Seats  108988  \n",
              "3  Mount Druitt, NSW             8 cyl      Coupe   2 Doors   4 Seats   32990  \n",
              "4   Castle Hill, NSW             4 cyl        SUV   4 Doors   5 Seats   34990  "
            ]
          },
          "execution_count": 3,
          "metadata": {},
          "output_type": "execute_result"
        }
      ],
      "source": [
        "df.head()"
      ]
    },
    {
      "cell_type": "markdown",
      "metadata": {
        "id": "CQRVlqt8PiyU"
      },
      "source": [
        "#### 2.2.1.1 The Shape of the dataset"
      ]
    },
    {
      "cell_type": "markdown",
      "metadata": {
        "id": "7SzeN3sUysLl"
      },
      "source": [
        "---\n",
        "* The 'Brand' is a non-ordinal categorical feature. Therefore, it should be encoded using **one-hot encoding**.\n",
        "* The 'Year' has the float type, which makes no sense. And, the number of year does not matter but only the difference between now and the 'year'. Therefore, we will use **label encoding** to convert it.\n",
        "* The 'Model', 'Title', 'Transmission', 'DirveType', ColourExtInt', 'Location', BodyType and 'Car/Suv' are just like the 'Brand', we will use **one-hot encoding**.\n",
        "* The 'UsedOrNew','Engine' are like the 'Year' and need to be converted into non-ordinal data type using **label enconding**. Some of their orders should be specified and convert manually.\n",
        "* The rest featues are object, but suppsoed to be numeric, we will deal with before feed them into the model."
      ]
    },
    {
      "cell_type": "code",
      "execution_count": 4,
      "metadata": {
        "colab": {
          "base_uri": "https://localhost:8080/"
        },
        "id": "HxHr-6nNPoAs",
        "outputId": "7e019eb5-d657-4069-8677-0a9809d17229"
      },
      "outputs": [
        {
          "name": "stdout",
          "output_type": "stream",
          "text": [
            "Dataset contains 16734 rows (samples) and 19 columns (features).\n"
          ]
        }
      ],
      "source": [
        "print(f\"Dataset contains {df.shape[0]} rows (samples) and {df.shape[1]} columns (features).\")"
      ]
    },
    {
      "cell_type": "markdown",
      "metadata": {
        "id": "PWqfwbaEQDvm"
      },
      "source": [
        "#### 2.2.1.2 Features and Data Type"
      ]
    },
    {
      "cell_type": "code",
      "execution_count": 5,
      "metadata": {
        "colab": {
          "base_uri": "https://localhost:8080/"
        },
        "id": "ZGpLt8l0PsjQ",
        "outputId": "eedec10f-7235-4658-f36f-91bd1c6b3cbe"
      },
      "outputs": [
        {
          "name": "stdout",
          "output_type": "stream",
          "text": [
            "Columns and their data types:\n",
            "Brand                 object\n",
            "Year                 float64\n",
            "Model                 object\n",
            "Car/Suv               object\n",
            "Title                 object\n",
            "UsedOrNew             object\n",
            "Transmission          object\n",
            "Engine                object\n",
            "DriveType             object\n",
            "FuelType              object\n",
            "FuelConsumption       object\n",
            "Kilometres            object\n",
            "ColourExtInt          object\n",
            "Location              object\n",
            "CylindersinEngine     object\n",
            "BodyType              object\n",
            "Doors                 object\n",
            "Seats                 object\n",
            "Price                 object\n",
            "dtype: object \n",
            "\n",
            "The data types' count:\n",
            "object     18\n",
            "float64     1\n",
            "Name: count, dtype: int64\n"
          ]
        }
      ],
      "source": [
        "print(\"Columns and their data types:\")\n",
        "print(df.dtypes,'\\n')\n",
        "print(\"The data types' count:\")\n",
        "print(df.dtypes.value_counts())"
      ]
    },
    {
      "cell_type": "markdown",
      "metadata": {},
      "source": [
        "---\n",
        "* As we see, the data type are not suitable for further analysis, we need to deal with it first."
      ]
    },
    {
      "cell_type": "markdown",
      "metadata": {},
      "source": [
        "### 2.2.2 *Data Overview & Cleanning*\n"
      ]
    },
    {
      "cell_type": "code",
      "execution_count": 6,
      "metadata": {
        "colab": {
          "base_uri": "https://localhost:8080/"
        },
        "id": "fi24BIB3j4dZ",
        "outputId": "1ab7a3ce-5c44-4ed2-f005-9548d4839018"
      },
      "outputs": [
        {
          "name": "stdout",
          "output_type": "stream",
          "text": [
            "<class 'pandas.core.frame.DataFrame'>\n",
            "RangeIndex: 16734 entries, 0 to 16733\n",
            "Data columns (total 19 columns):\n",
            " #   Column             Non-Null Count  Dtype  \n",
            "---  ------             --------------  -----  \n",
            " 0   Brand              16733 non-null  object \n",
            " 1   Year               16733 non-null  float64\n",
            " 2   Model              16733 non-null  object \n",
            " 3   Car/Suv            16706 non-null  object \n",
            " 4   Title              16733 non-null  object \n",
            " 5   UsedOrNew          16733 non-null  object \n",
            " 6   Transmission       16733 non-null  object \n",
            " 7   Engine             16733 non-null  object \n",
            " 8   DriveType          16733 non-null  object \n",
            " 9   FuelType           16733 non-null  object \n",
            " 10  FuelConsumption    16733 non-null  object \n",
            " 11  Kilometres         16733 non-null  object \n",
            " 12  ColourExtInt       16733 non-null  object \n",
            " 13  Location           16284 non-null  object \n",
            " 14  CylindersinEngine  16733 non-null  object \n",
            " 15  BodyType           16452 non-null  object \n",
            " 16  Doors              15130 non-null  object \n",
            " 17  Seats              15029 non-null  object \n",
            " 18  Price              16731 non-null  object \n",
            "dtypes: float64(1), object(18)\n",
            "memory usage: 2.4+ MB\n"
          ]
        }
      ],
      "source": [
        "df.info()"
      ]
    },
    {
      "cell_type": "markdown",
      "metadata": {
        "id": "gedBms_mw8uu"
      },
      "source": [
        "---\n",
        "* Most features are object type, we may convert them into the proper ones.\n",
        "* The Price is also object type."
      ]
    },
    {
      "cell_type": "markdown",
      "metadata": {
        "id": "sFeIPBYf6Zwb"
      },
      "source": [
        "#### 2.2.3.1 Deal with the null/nil values\n"
      ]
    },
    {
      "cell_type": "markdown",
      "metadata": {
        "id": "HDS12u1hDAJC"
      },
      "source": [
        "* **Check whether any values are missing and calculate the null value ratio**\n"
      ]
    },
    {
      "cell_type": "code",
      "execution_count": 7,
      "metadata": {
        "colab": {
          "base_uri": "https://localhost:8080/"
        },
        "id": "cpSz0dOzC_q9",
        "outputId": "551c7fa6-5ddf-401a-a6ba-69f0f146e2f3"
      },
      "outputs": [
        {
          "name": "stdout",
          "output_type": "stream",
          "text": [
            "Seats                10.188837\n",
            "Doors                 9.585275\n",
            "Location              2.689136\n",
            "BodyType              1.685192\n",
            "Car/Suv               0.167324\n",
            "Price                 0.017928\n",
            "Brand                 0.005976\n",
            "Model                 0.005976\n",
            "Year                  0.005976\n",
            "UsedOrNew             0.005976\n",
            "Title                 0.005976\n",
            "FuelConsumption       0.005976\n",
            "FuelType              0.005976\n",
            "DriveType             0.005976\n",
            "Engine                0.005976\n",
            "Transmission          0.005976\n",
            "CylindersinEngine     0.005976\n",
            "Kilometres            0.005976\n",
            "ColourExtInt          0.005976\n",
            "dtype: float64\n"
          ]
        }
      ],
      "source": [
        "# For each column, calculate the percentage of missing (null) values\n",
        "null_ratio = df.isnull().mean().sort_values(ascending=False)\n",
        "\n",
        "# Display as a percentage\n",
        "null_ratio_percent = null_ratio * 100\n",
        "\n",
        "# Show only columns with missing data\n",
        "print(null_ratio_percent[null_ratio_percent > 0])\n"
      ]
    },
    {
      "cell_type": "markdown",
      "metadata": {
        "id": "xSy4khKbx-Gt"
      },
      "source": [
        "---\n",
        "* All featurues and the target(price) are all missing values. Wee need to look into them to reach a suitable solution.\n",
        "* Considering we have more than 16K data rows, after removing 10% data, we still have enough data to train. Therefore, we just remove all the null values for our convienece."
      ]
    },
    {
      "cell_type": "markdown",
      "metadata": {},
      "source": [
        "* **Remove all null data**"
      ]
    },
    {
      "cell_type": "code",
      "execution_count": 8,
      "metadata": {
        "colab": {
          "base_uri": "https://localhost:8080/"
        },
        "id": "OZeMjOzI_MhL",
        "outputId": "318754da-72d5-4d8d-9650-c9f9be7654d2"
      },
      "outputs": [
        {
          "name": "stdout",
          "output_type": "stream",
          "text": [
            "Dataset contains 14586 rows (samples) and 19 columns (features).\n"
          ]
        }
      ],
      "source": [
        "# Remove null values and check the shape of dataset again\n",
        "df.dropna(inplace=True)\n",
        "print(f\"Dataset contains {df.shape[0]} rows (samples) and {df.shape[1]} columns (features).\")"
      ]
    },
    {
      "cell_type": "markdown",
      "metadata": {
        "id": "vhJHWwZlAsef"
      },
      "source": [
        "---\n",
        "* We still have 14586 rows that are plenty for the training."
      ]
    },
    {
      "cell_type": "markdown",
      "metadata": {},
      "source": [
        "#### 2.2.3.2 Feature selection & Convert categorical columns"
      ]
    },
    {
      "cell_type": "markdown",
      "metadata": {},
      "source": [
        "* **The ordinals**"
      ]
    },
    {
      "cell_type": "code",
      "execution_count": 9,
      "metadata": {},
      "outputs": [
        {
          "data": {
            "application/vnd.microsoft.datawrangler.viewer.v0+json": {
              "columns": [
                {
                  "name": "index",
                  "rawType": "int64",
                  "type": "integer"
                },
                {
                  "name": "Brand",
                  "rawType": "object",
                  "type": "string"
                },
                {
                  "name": "Year",
                  "rawType": "float64",
                  "type": "float"
                },
                {
                  "name": "Model",
                  "rawType": "object",
                  "type": "string"
                },
                {
                  "name": "Car/Suv",
                  "rawType": "object",
                  "type": "string"
                },
                {
                  "name": "Title",
                  "rawType": "object",
                  "type": "string"
                },
                {
                  "name": "UsedOrNew",
                  "rawType": "object",
                  "type": "string"
                },
                {
                  "name": "Transmission",
                  "rawType": "object",
                  "type": "string"
                },
                {
                  "name": "Engine",
                  "rawType": "object",
                  "type": "string"
                },
                {
                  "name": "DriveType",
                  "rawType": "object",
                  "type": "string"
                },
                {
                  "name": "FuelType",
                  "rawType": "object",
                  "type": "string"
                },
                {
                  "name": "FuelConsumption",
                  "rawType": "object",
                  "type": "string"
                },
                {
                  "name": "Kilometres",
                  "rawType": "object",
                  "type": "string"
                },
                {
                  "name": "ColourExtInt",
                  "rawType": "object",
                  "type": "string"
                },
                {
                  "name": "Location",
                  "rawType": "object",
                  "type": "string"
                },
                {
                  "name": "CylindersinEngine",
                  "rawType": "object",
                  "type": "string"
                },
                {
                  "name": "BodyType",
                  "rawType": "object",
                  "type": "string"
                },
                {
                  "name": "Doors",
                  "rawType": "object",
                  "type": "string"
                },
                {
                  "name": "Seats",
                  "rawType": "object",
                  "type": "string"
                },
                {
                  "name": "Price",
                  "rawType": "object",
                  "type": "string"
                }
              ],
              "ref": "f84ef33c-ebb5-49b8-92be-83e0d318bb6e",
              "rows": [
                [
                  "0",
                  "Ssangyong",
                  "2022.0",
                  "Rexton",
                  "Sutherland Isuzu Ute",
                  "2022 Ssangyong Rexton Ultimate (awd)",
                  "DEMO",
                  "Automatic",
                  "4 cyl, 2.2 L",
                  "AWD",
                  "Diesel",
                  "8.7 L / 100 km",
                  "5595",
                  "White / Black",
                  "Caringbah, NSW",
                  "4 cyl",
                  "SUV",
                  " 4 Doors",
                  " 7 Seats",
                  "51990"
                ],
                [
                  "1",
                  "MG",
                  "2022.0",
                  "MG3",
                  "Hatchback",
                  "2022 MG MG3 Auto Excite (with Navigation)",
                  "USED",
                  "Automatic",
                  "4 cyl, 1.5 L",
                  "Front",
                  "Premium",
                  "6.7 L / 100 km",
                  "16",
                  "Black / Black",
                  "Brookvale, NSW",
                  "4 cyl",
                  "Hatchback",
                  " 5 Doors",
                  " 5 Seats",
                  "19990"
                ],
                [
                  "2",
                  "BMW",
                  "2022.0",
                  "430I",
                  "Coupe",
                  "2022 BMW 430I M Sport",
                  "USED",
                  "Automatic",
                  "4 cyl, 2 L",
                  "Rear",
                  "Premium",
                  "6.6 L / 100 km",
                  "8472",
                  "Grey / White",
                  "Sylvania, NSW",
                  "4 cyl",
                  "Coupe",
                  " 2 Doors",
                  " 4 Seats",
                  "108988"
                ],
                [
                  "3",
                  "Mercedes-Benz",
                  "2011.0",
                  "E500",
                  "Coupe",
                  "2011 Mercedes-Benz E500 Elegance",
                  "USED",
                  "Automatic",
                  "8 cyl, 5.5 L",
                  "Rear",
                  "Premium",
                  "11 L / 100 km",
                  "136517",
                  "White / Brown",
                  "Mount Druitt, NSW",
                  "8 cyl",
                  "Coupe",
                  " 2 Doors",
                  " 4 Seats",
                  "32990"
                ],
                [
                  "4",
                  "Renault",
                  "2022.0",
                  "Arkana",
                  "SUV",
                  "2022 Renault Arkana Intens",
                  "USED",
                  "Automatic",
                  "4 cyl, 1.3 L",
                  "Front",
                  "Unleaded",
                  "6 L / 100 km",
                  "1035",
                  "Grey / Black",
                  "Castle Hill, NSW",
                  "4 cyl",
                  "SUV",
                  " 4 Doors",
                  " 5 Seats",
                  "34990"
                ]
              ],
              "shape": {
                "columns": 19,
                "rows": 5
              }
            },
            "text/html": [
              "<div>\n",
              "<style scoped>\n",
              "    .dataframe tbody tr th:only-of-type {\n",
              "        vertical-align: middle;\n",
              "    }\n",
              "\n",
              "    .dataframe tbody tr th {\n",
              "        vertical-align: top;\n",
              "    }\n",
              "\n",
              "    .dataframe thead th {\n",
              "        text-align: right;\n",
              "    }\n",
              "</style>\n",
              "<table border=\"1\" class=\"dataframe\">\n",
              "  <thead>\n",
              "    <tr style=\"text-align: right;\">\n",
              "      <th></th>\n",
              "      <th>Brand</th>\n",
              "      <th>Year</th>\n",
              "      <th>Model</th>\n",
              "      <th>Car/Suv</th>\n",
              "      <th>Title</th>\n",
              "      <th>UsedOrNew</th>\n",
              "      <th>Transmission</th>\n",
              "      <th>Engine</th>\n",
              "      <th>DriveType</th>\n",
              "      <th>FuelType</th>\n",
              "      <th>FuelConsumption</th>\n",
              "      <th>Kilometres</th>\n",
              "      <th>ColourExtInt</th>\n",
              "      <th>Location</th>\n",
              "      <th>CylindersinEngine</th>\n",
              "      <th>BodyType</th>\n",
              "      <th>Doors</th>\n",
              "      <th>Seats</th>\n",
              "      <th>Price</th>\n",
              "    </tr>\n",
              "  </thead>\n",
              "  <tbody>\n",
              "    <tr>\n",
              "      <th>0</th>\n",
              "      <td>Ssangyong</td>\n",
              "      <td>2022.0</td>\n",
              "      <td>Rexton</td>\n",
              "      <td>Sutherland Isuzu Ute</td>\n",
              "      <td>2022 Ssangyong Rexton Ultimate (awd)</td>\n",
              "      <td>DEMO</td>\n",
              "      <td>Automatic</td>\n",
              "      <td>4 cyl, 2.2 L</td>\n",
              "      <td>AWD</td>\n",
              "      <td>Diesel</td>\n",
              "      <td>8.7 L / 100 km</td>\n",
              "      <td>5595</td>\n",
              "      <td>White / Black</td>\n",
              "      <td>Caringbah, NSW</td>\n",
              "      <td>4 cyl</td>\n",
              "      <td>SUV</td>\n",
              "      <td>4 Doors</td>\n",
              "      <td>7 Seats</td>\n",
              "      <td>51990</td>\n",
              "    </tr>\n",
              "    <tr>\n",
              "      <th>1</th>\n",
              "      <td>MG</td>\n",
              "      <td>2022.0</td>\n",
              "      <td>MG3</td>\n",
              "      <td>Hatchback</td>\n",
              "      <td>2022 MG MG3 Auto Excite (with Navigation)</td>\n",
              "      <td>USED</td>\n",
              "      <td>Automatic</td>\n",
              "      <td>4 cyl, 1.5 L</td>\n",
              "      <td>Front</td>\n",
              "      <td>Premium</td>\n",
              "      <td>6.7 L / 100 km</td>\n",
              "      <td>16</td>\n",
              "      <td>Black / Black</td>\n",
              "      <td>Brookvale, NSW</td>\n",
              "      <td>4 cyl</td>\n",
              "      <td>Hatchback</td>\n",
              "      <td>5 Doors</td>\n",
              "      <td>5 Seats</td>\n",
              "      <td>19990</td>\n",
              "    </tr>\n",
              "    <tr>\n",
              "      <th>2</th>\n",
              "      <td>BMW</td>\n",
              "      <td>2022.0</td>\n",
              "      <td>430I</td>\n",
              "      <td>Coupe</td>\n",
              "      <td>2022 BMW 430I M Sport</td>\n",
              "      <td>USED</td>\n",
              "      <td>Automatic</td>\n",
              "      <td>4 cyl, 2 L</td>\n",
              "      <td>Rear</td>\n",
              "      <td>Premium</td>\n",
              "      <td>6.6 L / 100 km</td>\n",
              "      <td>8472</td>\n",
              "      <td>Grey / White</td>\n",
              "      <td>Sylvania, NSW</td>\n",
              "      <td>4 cyl</td>\n",
              "      <td>Coupe</td>\n",
              "      <td>2 Doors</td>\n",
              "      <td>4 Seats</td>\n",
              "      <td>108988</td>\n",
              "    </tr>\n",
              "    <tr>\n",
              "      <th>3</th>\n",
              "      <td>Mercedes-Benz</td>\n",
              "      <td>2011.0</td>\n",
              "      <td>E500</td>\n",
              "      <td>Coupe</td>\n",
              "      <td>2011 Mercedes-Benz E500 Elegance</td>\n",
              "      <td>USED</td>\n",
              "      <td>Automatic</td>\n",
              "      <td>8 cyl, 5.5 L</td>\n",
              "      <td>Rear</td>\n",
              "      <td>Premium</td>\n",
              "      <td>11 L / 100 km</td>\n",
              "      <td>136517</td>\n",
              "      <td>White / Brown</td>\n",
              "      <td>Mount Druitt, NSW</td>\n",
              "      <td>8 cyl</td>\n",
              "      <td>Coupe</td>\n",
              "      <td>2 Doors</td>\n",
              "      <td>4 Seats</td>\n",
              "      <td>32990</td>\n",
              "    </tr>\n",
              "    <tr>\n",
              "      <th>4</th>\n",
              "      <td>Renault</td>\n",
              "      <td>2022.0</td>\n",
              "      <td>Arkana</td>\n",
              "      <td>SUV</td>\n",
              "      <td>2022 Renault Arkana Intens</td>\n",
              "      <td>USED</td>\n",
              "      <td>Automatic</td>\n",
              "      <td>4 cyl, 1.3 L</td>\n",
              "      <td>Front</td>\n",
              "      <td>Unleaded</td>\n",
              "      <td>6 L / 100 km</td>\n",
              "      <td>1035</td>\n",
              "      <td>Grey / Black</td>\n",
              "      <td>Castle Hill, NSW</td>\n",
              "      <td>4 cyl</td>\n",
              "      <td>SUV</td>\n",
              "      <td>4 Doors</td>\n",
              "      <td>5 Seats</td>\n",
              "      <td>34990</td>\n",
              "    </tr>\n",
              "  </tbody>\n",
              "</table>\n",
              "</div>"
            ],
            "text/plain": [
              "           Brand    Year   Model               Car/Suv  \\\n",
              "0      Ssangyong  2022.0  Rexton  Sutherland Isuzu Ute   \n",
              "1             MG  2022.0     MG3             Hatchback   \n",
              "2            BMW  2022.0    430I                 Coupe   \n",
              "3  Mercedes-Benz  2011.0    E500                 Coupe   \n",
              "4        Renault  2022.0  Arkana                   SUV   \n",
              "\n",
              "                                       Title UsedOrNew Transmission  \\\n",
              "0       2022 Ssangyong Rexton Ultimate (awd)      DEMO    Automatic   \n",
              "1  2022 MG MG3 Auto Excite (with Navigation)      USED    Automatic   \n",
              "2                      2022 BMW 430I M Sport      USED    Automatic   \n",
              "3           2011 Mercedes-Benz E500 Elegance      USED    Automatic   \n",
              "4                 2022 Renault Arkana Intens      USED    Automatic   \n",
              "\n",
              "         Engine DriveType  FuelType FuelConsumption Kilometres   ColourExtInt  \\\n",
              "0  4 cyl, 2.2 L       AWD    Diesel  8.7 L / 100 km       5595  White / Black   \n",
              "1  4 cyl, 1.5 L     Front   Premium  6.7 L / 100 km         16  Black / Black   \n",
              "2    4 cyl, 2 L      Rear   Premium  6.6 L / 100 km       8472   Grey / White   \n",
              "3  8 cyl, 5.5 L      Rear   Premium   11 L / 100 km     136517  White / Brown   \n",
              "4  4 cyl, 1.3 L     Front  Unleaded    6 L / 100 km       1035   Grey / Black   \n",
              "\n",
              "            Location CylindersinEngine   BodyType     Doors     Seats   Price  \n",
              "0     Caringbah, NSW             4 cyl        SUV   4 Doors   7 Seats   51990  \n",
              "1     Brookvale, NSW             4 cyl  Hatchback   5 Doors   5 Seats   19990  \n",
              "2      Sylvania, NSW             4 cyl      Coupe   2 Doors   4 Seats  108988  \n",
              "3  Mount Druitt, NSW             8 cyl      Coupe   2 Doors   4 Seats   32990  \n",
              "4   Castle Hill, NSW             4 cyl        SUV   4 Doors   5 Seats   34990  "
            ]
          },
          "execution_count": 9,
          "metadata": {},
          "output_type": "execute_result"
        }
      ],
      "source": [
        "df.head()"
      ]
    },
    {
      "cell_type": "code",
      "execution_count": 10,
      "metadata": {},
      "outputs": [],
      "source": [
        "df_encoded = df.copy()\n",
        "ord_cols = ['Year','UsedOrNew']\n",
        "le = LabelEncoder()\n",
        "for col in ord_cols:\n",
        "    df_encoded[col] = le.fit_transform(df_encoded[col])"
      ]
    },
    {
      "cell_type": "markdown",
      "metadata": {},
      "source": [
        "* **The nominals**\n",
        "* The 'Title is redundant with 'Year', 'Brand',  and 'Model', so we drop it.\n",
        "* The 'location' includes both city and state. Generally, car prices within the same state cannot be dramatically different, so considering only the state is usually sufficient.\n",
        "* The 'Model' indicates the 'BodyType', 'Engine', 'CylindersinEngine' and other features of a car, so the 'Model' is redundant with others."
      ]
    },
    {
      "cell_type": "code",
      "execution_count": 11,
      "metadata": {},
      "outputs": [],
      "source": [
        "# Drop the 'Title' column as it is not needed for the analysis.\n",
        "df_encoded.drop(columns=['Title','Model'], inplace=True)"
      ]
    },
    {
      "cell_type": "code",
      "execution_count": 12,
      "metadata": {},
      "outputs": [],
      "source": [
        "# Seperate the state from the 'Location' column\n",
        "df_encoded['State'] = df_encoded['Location'].str.split(',').str[1].str.strip()\n",
        "# Drop the 'Location' column as it is not needed for the analysis.\n",
        "df_encoded.drop(columns=['Location'], inplace=True)\n",
        "# Convert 'State' column to categorical type\n",
        "df_encoded['State'] = df_encoded['State'].astype('category')"
      ]
    },
    {
      "cell_type": "code",
      "execution_count": 14,
      "metadata": {},
      "outputs": [],
      "source": [
        "nominal_cols = ['Brand', 'BodyType', 'Car/Suv','Transmission', 'FuelType', 'DriveType','ColourExtInt','State']\n",
        "df_dummies = pd.get_dummies(df_encoded[nominal_cols], drop_first=True)\n",
        "df_encoded = df_encoded.drop(nominal_cols, axis=1)\n",
        "df_encoded = pd.concat([df_encoded, df_dummies], axis=1)\n"
      ]
    },
    {
      "cell_type": "markdown",
      "metadata": {},
      "source": [
        "* **Univarite Analysis for the rest features and Target & ** <br>\n",
        " -- Before we move forward to the rest features, let's we carefully examine the features and target.<br>\n",
        " -- The rest features are more complicated than the encoded ones. We may conver them in a more comlicated way or manully."
      ]
    },
    {
      "cell_type": "markdown",
      "metadata": {},
      "source": [
        "* The Price - our target"
      ]
    },
    {
      "cell_type": "code",
      "execution_count": 15,
      "metadata": {},
      "outputs": [],
      "source": [
        "# Convert the 'Price' column to numeric, forcing errors to NaN\n",
        "df_encoded['Price'] = pd.to_numeric(df_encoded['Price'], errors='coerce')\n",
        "# Remove rows with NaN in 'Price' after conversion\n",
        "df_encoded.dropna(subset=['Price'], inplace=True)"
      ]
    },
    {
      "cell_type": "code",
      "execution_count": 16,
      "metadata": {},
      "outputs": [
        {
          "data": {
            "application/vnd.microsoft.datawrangler.viewer.v0+json": {
              "columns": [
                {
                  "name": "index",
                  "rawType": "object",
                  "type": "string"
                },
                {
                  "name": "Price",
                  "rawType": "float64",
                  "type": "float"
                }
              ],
              "ref": "179698aa-9a4d-4fdb-8972-4e9bbad26fc9",
              "rows": [
                [
                  "count",
                  "14551.0"
                ],
                [
                  "mean",
                  "34980.2463060958"
                ],
                [
                  "std",
                  "29031.113506166428"
                ],
                [
                  "min",
                  "88.0"
                ],
                [
                  "25%",
                  "18990.0"
                ],
                [
                  "50%",
                  "28990.0"
                ],
                [
                  "75%",
                  "42755.0"
                ],
                [
                  "max",
                  "649880.0"
                ]
              ],
              "shape": {
                "columns": 1,
                "rows": 8
              }
            },
            "text/plain": [
              "count     14551.000000\n",
              "mean      34980.246306\n",
              "std       29031.113506\n",
              "min          88.000000\n",
              "25%       18990.000000\n",
              "50%       28990.000000\n",
              "75%       42755.000000\n",
              "max      649880.000000\n",
              "Name: Price, dtype: float64"
            ]
          },
          "execution_count": 16,
          "metadata": {},
          "output_type": "execute_result"
        }
      ],
      "source": [
        "df_encoded['Price'].describe()"
      ]
    },
    {
      "cell_type": "code",
      "execution_count": 17,
      "metadata": {},
      "outputs": [
        {
          "data": {
            "image/png": "[encoded data removed]",
            "text/plain": [
              "<Figure size 800x400 with 1 Axes>"
            ]
          },
          "metadata": {},
          "output_type": "display_data"
        }
      ],
      "source": [
        "# Plotting the distribution of the 'Price' column\n",
        "plt.figure(figsize=(8, 4))\n",
        "sns.histplot(df_encoded['Price'], bins=50, kde=True)\n",
        "plt.title('Distribution of Vehicle Prices')\n",
        "plt.xlabel('Price')\n",
        "plt.ylabel('Frequency')\n",
        "plt.show()"
      ]
    },
    {
      "cell_type": "markdown",
      "metadata": {},
      "source": [
        "* The fuel consumption and Cylinders in Engine <br>\n",
        "-- Intuitively, the number of cylinders in an engine influences fuel consumption: The more cylinders a car has, the more fuel it consumes.(0 fuel consumption means it is a electric car.)<br>\n",
        "-- So, we can just drop the fuel consumption column."
      ]
    },
    {
      "cell_type": "code",
      "execution_count": 18,
      "metadata": {},
      "outputs": [],
      "source": [
        "df_encoded.drop(columns=['FuelConsumption'], inplace=True)"
      ]
    },
    {
      "cell_type": "markdown",
      "metadata": {},
      "source": [
        "* CylindersinEngine, Seats and Doors <br>"
      ]
    },
    {
      "cell_type": "code",
      "execution_count": 19,
      "metadata": {},
      "outputs": [
        {
          "data": {
            "image/png": "[encoded data removed]",
            "text/plain": [
              "<Figure size 1200x500 with 3 Axes>"
            ]
          },
          "metadata": {},
          "output_type": "display_data"
        }
      ],
      "source": [
        "# First, we plot the distributions\n",
        "\n",
        "# Create a figure with 1 row and 2 columns of subplots\n",
        "fig, axs = plt.subplots(1, 3, figsize=(12, 5))  # figsize controls overall figure size\n",
        "\n",
        "# Plot 'Seats' distribution\n",
        "df_encoded['Seats'].value_counts().sort_index().plot(\n",
        "    kind='bar', ax=axs[0], title='Distribution of Seats', color='skyblue'\n",
        ")\n",
        "axs[0].set_xlabel('Seats')\n",
        "axs[0].set_ylabel('Count')\n",
        "\n",
        "# Plot 'Doors' distribution\n",
        "df_encoded['Doors'].value_counts().sort_index().plot(\n",
        "    kind='bar', ax=axs[1], title='Distribution of Doors', color='lightgreen'\n",
        ")\n",
        "axs[1].set_xlabel('Doors')\n",
        "axs[1].set_ylabel('Count')\n",
        "\n",
        "# Plot 'CylindersinEngine' distribution\n",
        "df_encoded['CylindersinEngine'].value_counts().sort_index().plot(\n",
        "    kind='bar', ax=axs[2], title='Distribution of CylindersinEngine', color='salmon'\n",
        ")\n",
        "axs[2].set_xlabel('CylindersinEngine')\n",
        "axs[2].set_ylabel('Count')\n",
        "\n",
        "# Adjust layout\n",
        "plt.tight_layout()\n",
        "plt.show()"
      ]
    },
    {
      "cell_type": "markdown",
      "metadata": {},
      "source": [
        "* We can simply conver these features' values to the numeric values by applying split function."
      ]
    },
    {
      "cell_type": "code",
      "execution_count": 20,
      "metadata": {},
      "outputs": [
        {
          "name": "stdout",
          "output_type": "stream",
          "text": [
            "Converted Seats to numeric values.\n",
            "{2, 3, 4, 5, 6, 7, 8, 9, 11, 12, 14, 22}\n",
            "Converted Doors to numeric values.\n",
            "{2, 3, 4, 5}\n",
            "Converted CylindersinEngine to numeric values.\n",
            "{0, 2, 3, 4, 5, 6, 8, 10, 12}\n"
          ]
        }
      ],
      "source": [
        "def conv2num_helper(feature):\n",
        "    df_encoded[feature] = df_encoded[feature].str.split().str[0].astype(int)\n",
        "    print(f\"Converted {feature} to numeric values.\")\n",
        "    print(set(df_encoded[feature]))\n",
        "\n",
        "for f in ['Seats', 'Doors', 'CylindersinEngine']:\n",
        "    conv2num_helper(f)"
      ]
    },
    {
      "cell_type": "markdown",
      "metadata": {},
      "source": [
        "* The 'Engine' <br>\n",
        "-- It's safe to say it's partially redundant with 'CylindersinEngine', let's fix it."
      ]
    },
    {
      "cell_type": "code",
      "execution_count": 21,
      "metadata": {},
      "outputs": [
        {
          "name": "stdout",
          "output_type": "stream",
          "text": [
            "{0.0, 1.5, 2.2, 2.0, 1.3, 5.5, 1.6, 2.7, 3.0, 1.4, 1.0, 2.4, 2.5, 4.0, 6.0, 6.6, 3.5, 4.1, 4.5, 4.4, 4.6, 4.9, 5.0, 5.4, 5.6, 5.9, 6.4, 6.1, 6.5, 2.1, 2.6, 3.6, 3.1, 0.7, 1.2, 1.7, 2.3, 2.8, 3.2, 3.8, 3.3, 3.7, 4.8, 1.8, 4.2, 4.7, 4.3, 5.7, 5.3, 5.2, 6.2, 6.8, 6.3, 7.3, 1.9, 0.9, 2.9, 3.4, 3.9}\n"
          ]
        }
      ],
      "source": [
        "# Make sure it's all string for regex\n",
        "df_encoded['Engine'] = df_encoded['Engine'].astype(str)\n",
        "\n",
        "# Remove rows like '4 cyl' (no engine size)\n",
        "df_encoded = df_encoded[~df_encoded['Engine'].str.fullmatch(r'\\d+ cyl', na=False)]\n",
        "\n",
        "# Replace '0 L' with '0.0 L' so it's still parseable\n",
        "df_encoded['Engine'] = df_encoded['Engine'].replace('0 L', '0.0 L')\n",
        "\n",
        "# Extract ONLY the number before the \"L\"\n",
        "df_encoded['Engine'] = df_encoded['Engine'].str.extract(r'(\\d+(\\.\\d+)?)\\s*L')[0].astype(float)\n",
        "\n",
        "\n",
        "print(set(df_encoded['Engine']))"
      ]
    },
    {
      "cell_type": "code",
      "execution_count": 22,
      "metadata": {},
      "outputs": [
        {
          "data": {
            "image/png": "[encoded data removed]",
            "text/plain": [
              "<Figure size 1200x400 with 1 Axes>"
            ]
          },
          "metadata": {},
          "output_type": "display_data"
        }
      ],
      "source": [
        "# Let's plot the distribution of 'Engine'\n",
        "plt.figure(figsize=(12, 4))\n",
        "df_encoded['Engine'].value_counts().sort_index().plot(\n",
        "    kind='bar', title='Distribution of Engine', color='salmon'\n",
        ")\n",
        "plt.xlabel('Engine Size (L)')\n",
        "plt.ylabel('Count')\n",
        "plt.show()"
      ]
    },
    {
      "cell_type": "markdown",
      "metadata": {},
      "source": [
        "* The 'Kilometers' - conver it to numeric values"
      ]
    },
    {
      "cell_type": "code",
      "execution_count": 23,
      "metadata": {},
      "outputs": [],
      "source": [
        "df_encoded['Kilometres'] = pd.to_numeric(df_encoded['Kilometres'], errors='coerce')"
      ]
    },
    {
      "cell_type": "code",
      "execution_count": 24,
      "metadata": {},
      "outputs": [
        {
          "data": {
            "image/png": "[encoded data removed]",
            "text/plain": [
              "<Figure size 800x400 with 1 Axes>"
            ]
          },
          "metadata": {},
          "output_type": "display_data"
        }
      ],
      "source": [
        "# Plot the distribution of 'Kilometres'\n",
        "plt.figure(figsize=(8, 4))\n",
        "sns.histplot(df_encoded['Kilometres'], bins=50, kde=True)\n",
        "plt.title('Distribution of Kilometres')\n",
        "plt.xlabel('Kilometres')\n",
        "plt.ylabel('Frequency')\n",
        "plt.show()"
      ]
    },
    {
      "cell_type": "code",
      "execution_count": 25,
      "metadata": {},
      "outputs": [
        {
          "name": "stdout",
          "output_type": "stream",
          "text": [
            "No null values\n",
            "No numeric columns\n"
          ]
        }
      ],
      "source": [
        "# Check whether there are any remaining null values in the dataset\n",
        "print(f'No null values') if df.isnull().sum()[df.isnull().sum() > 0].empty else print(f'Null values found: {df.isnull().sum()[df.isnull().sum() > 0]}')\n",
        "\n",
        "non_numeric_cols = df_encoded.select_dtypes(exclude=['number','bool']).columns\n",
        "print(f'No numeric columns') if non_numeric_cols.empty else print(f'Non-numeric columns found: {non_numeric_cols}') "
      ]
    },
    {
      "cell_type": "markdown",
      "metadata": {},
      "source": [
        "## 2.3 Final data preparations before modelling"
      ]
    },
    {
      "cell_type": "markdown",
      "metadata": {},
      "source": [
        "### 2.3.1 *Normalization*"
      ]
    },
    {
      "cell_type": "code",
      "execution_count": 26,
      "metadata": {},
      "outputs": [],
      "source": [
        "df_encoded.dropna(inplace=True)  # Ensure no NaN values remain\n",
        "\n",
        "X = df_encoded.drop('Price', axis=1)  # all columns except 'Price'\n",
        "y = df_encoded['Price']               # target column\n",
        "\n",
        "\n",
        "# Step 1: Split data into train and test\n",
        "X_train, X_test, y_train, y_test = train_test_split(\n",
        "    X, y, test_size=0.2, random_state=42\n",
        ")\n",
        "\n",
        "# Step 2: Initialize the scaler\n",
        "scaler = StandardScaler()\n",
        "\n",
        "# Step 3: Fit the scaler on training data and transform training data\n",
        "X_train_scaled = scaler.fit_transform(X_train)\n",
        "\n",
        "# Step 4: Transform test data using the same scaler (no fitting)\n",
        "X_test_scaled = scaler.transform(X_test)"
      ]
    },
    {
      "cell_type": "markdown",
      "metadata": {},
      "source": [
        "### *2.3.2 PCA*\n",
        "-- After several attempts, PCA does not help in this case. So, we just use original data to train."
      ]
    },
    {
      "cell_type": "code",
      "execution_count": 27,
      "metadata": {},
      "outputs": [],
      "source": [
        "\n",
        "## 1. Standardize the features (important before PCA)\n",
        "#scaler = StandardScaler()\n",
        "#X_scaled = scaler.fit_transform(X_train)  # Use training features\n",
        "#\n",
        "## 2. Initialize PCA, choose number of components or variance to keep\n",
        "#pca = PCA(n_components=0.95)  # Keep 95% variance; or use an integer n_components=10 for example\n",
        "#\n",
        "## 3. Fit PCA on training data and transform it\n",
        "#X_train_pca = pca.fit_transform(X_scaled)\n",
        "#\n",
        "## 4. Also transform the test set using the same scaler and PCA\n",
        "#X_test_scaled = scaler.transform(X_test)\n",
        "#X_test_pca = pca.transform(X_test_scaled)\n",
        "#\n",
        "## Now you can use X_train_pca and X_test_pca to train and test your model\n"
      ]
    },
    {
      "cell_type": "markdown",
      "metadata": {},
      "source": [
        "# **3 Modelling**"
      ]
    },
    {
      "cell_type": "markdown",
      "metadata": {},
      "source": [
        "## 3.1 Model selection"
      ]
    },
    {
      "cell_type": "code",
      "execution_count": 28,
      "metadata": {},
      "outputs": [
        {
          "name": "stdout",
          "output_type": "stream",
          "text": [
            "Tuning RandomForest...\n",
            "RandomForest best RMSE: 11487.30, best params: {'max_depth': None, 'n_estimators': 50}\n",
            "Tuning XGBoost...\n",
            "XGBoost best RMSE: 10609.69, best params: {'learning_rate': 0.1, 'n_estimators': 200}\n"
          ]
        }
      ],
      "source": [
        "models_and_params = {\n",
        "    'RandomForest': {\n",
        "        'model': RandomForestRegressor(random_state=42, n_jobs=-1),\n",
        "        'params': {'n_estimators': [50, 100], 'max_depth': [None, 10, 20]}\n",
        "    },\n",
        "    'XGBoost': {\n",
        "        'model': XGBRegressor(random_state=42, n_jobs=-1),\n",
        "        'params': {'n_estimators': [100, 200], 'learning_rate': [0.05, 0.1]}\n",
        "    }\n",
        "}\n",
        "\n",
        "best_models = {}\n",
        "\n",
        "for name, mp in models_and_params.items():\n",
        "    print(f\"Tuning {name}...\")\n",
        "    grid = GridSearchCV(mp['model'], mp['params'],\n",
        "                        scoring='neg_root_mean_squared_error',\n",
        "                        cv=5, n_jobs=-1)\n",
        "    grid.fit(X_train, y_train)  # Use original data for tree models\n",
        "    best_models[name] = grid.best_estimator_\n",
        "    print(f\"{name} best RMSE: {-grid.best_score_:.2f}, best params: {grid.best_params_}\")\n"
      ]
    },
    {
      "cell_type": "markdown",
      "metadata": {},
      "source": [
        "---\n",
        "* We will use XGBoost to train our data since it has the lower RMSE."
      ]
    },
    {
      "cell_type": "code",
      "execution_count": 29,
      "metadata": {},
      "outputs": [
        {
          "name": "stdout",
          "output_type": "stream",
          "text": [
            "Test RMSE: 13193.94\n",
            "Test MAE: 5284.35\n",
            "Test R²: 0.8392\n"
          ]
        }
      ],
      "source": [
        "y_pred = best_models['XGBoost'].predict(X_test)\n",
        "\n",
        "mse = mean_squared_error(y_test, y_pred)\n",
        "rmse = np.sqrt(mse)\n",
        "mae = mean_absolute_error(y_test, y_pred)\n",
        "r2 = r2_score(y_test, y_pred)\n",
        "\n",
        "print(f\"Test RMSE: {rmse:.2f}\")\n",
        "print(f\"Test MAE: {mae:.2f}\")\n",
        "print(f\"Test R²: {r2:.4f}\")"
      ]
    },
    {
      "cell_type": "markdown",
      "metadata": {},
      "source": [
        "---\n",
        "* Can we do it better?"
      ]
    },
    {
      "cell_type": "markdown",
      "metadata": {},
      "source": [
        "## 3.2 Hypermeter tuning"
      ]
    },
    {
      "cell_type": "code",
      "execution_count": 30,
      "metadata": {},
      "outputs": [
        {
          "name": "stdout",
          "output_type": "stream",
          "text": [
            "Best RMSE: 10288.01\n",
            "Best Params: {'subsample': 0.9, 'n_estimators': 300, 'max_depth': 5, 'learning_rate': 0.1, 'colsample_bytree': 1.0}\n"
          ]
        }
      ],
      "source": [
        "from sklearn.model_selection import RandomizedSearchCV\n",
        "xgb = XGBRegressor(random_state=42)\n",
        "\n",
        "param_grid = {\n",
        "    'n_estimators': [100, 200, 300],\n",
        "    'max_depth': [3, 5, 7],\n",
        "    'learning_rate': [0.01, 0.05, 0.1],\n",
        "    'subsample': [0.7, 0.9, 1.0],\n",
        "    'colsample_bytree': [0.7, 0.9, 1.0]\n",
        "}\n",
        "\n",
        "search = RandomizedSearchCV(xgb, param_grid, \n",
        "                             scoring='neg_root_mean_squared_error', \n",
        "                             cv=5, n_iter=20, n_jobs=-1, random_state=42)\n",
        "search.fit(X_train, y_train)\n",
        "\n",
        "print(f\"Best RMSE: {-search.best_score_:.2f}\")\n",
        "print(f\"Best Params: {search.best_params_}\")\n"
      ]
    },
    {
      "cell_type": "code",
      "execution_count": 31,
      "metadata": {},
      "outputs": [
        {
          "name": "stdout",
          "output_type": "stream",
          "text": [
            "Test RMSE: 12327.81\n",
            "Test MAE: 5153.32\n",
            "Test R²: 0.8597\n"
          ]
        }
      ],
      "source": [
        "\n",
        "# Initialize model with best parameters\n",
        "xgb_best_model = XGBRegressor(**search.best_params_, random_state=42)\n",
        "\n",
        "# Train the model\n",
        "xgb_best_model.fit(X_train, y_train)  \n",
        "\n",
        "# Make predictions\n",
        "y_pred = xgb_best_model.predict(X_test)  \n",
        "\n",
        "# Evaluate predictions\n",
        "mse = mean_squared_error(y_test, y_pred)\n",
        "rmse = np.sqrt(mse)\n",
        "mae = mean_absolute_error(y_test, y_pred)\n",
        "r2 = r2_score(y_test, y_pred)\n",
        "\n",
        "print(f\"Test RMSE: {rmse:.2f}\")\n",
        "print(f\"Test MAE: {mae:.2f}\")\n",
        "print(f\"Test R²: {r2:.4f}\")"
      ]
    },
    {
      "cell_type": "markdown",
      "metadata": {},
      "source": [
        "---\n",
        "* We slightly improve the result."
      ]
    },
    {
      "cell_type": "markdown",
      "metadata": {},
      "source": [
        "## 3.3 What matters"
      ]
    },
    {
      "cell_type": "code",
      "execution_count": 32,
      "metadata": {},
      "outputs": [
        {
          "data": {
            "image/png": "[encoded data removed]",
            "text/plain": [
              "<Figure size 640x480 with 1 Axes>"
            ]
          },
          "metadata": {},
          "output_type": "display_data"
        }
      ],
      "source": [
        "import matplotlib.pyplot as plt\n",
        "from xgboost import plot_importance\n",
        "\n",
        "# Assuming your trained model is named xgb_best_model\n",
        "plot_importance(xgb_best_model, max_num_features=20, importance_type='gain')\n",
        "plt.show()\n"
      ]
    },
    {
      "cell_type": "markdown",
      "metadata": {},
      "source": [
        "# **4. Interpretation of results**"
      ]
    },
    {
      "cell_type": "markdown",
      "metadata": {},
      "source": [
        "From what we have learnt from the results above,\n",
        "1. The model explains about 86% of the variance in the target (the 'Price'), which is a strong fit.\n",
        "2. MAE is 5153, which means the predicted price are about 5153 off from the actual prices. It's significant for the cars that have average price (about 35K) while not noticable for the luxury cars that have price more than 100K.\n",
        "3. RMSE is 12328. It's large.\n",
        "4. The feature importance plot confirms that engine characteristics (CylindersinEngine) and drivetrain (DriveType_Front) are the most critical in predicting the target. Brands like Ferrari, Porsche, and fuel types also heavily influence predictions — consistent with real-world expectations about what drives car value."
      ]
    }
  ],
  "metadata": {
    "colab": {
      "collapsed_sections": [
        "HDS12u1hDAJC"
      ],
      "provenance": [],
      "toc_visible": true
    },
    "kernelspec": {
      "display_name": "base",
      "language": "python",
      "name": "python3"
    },
    "language_info": {
      "codemirror_mode": {
        "name": "ipython",
        "version": 3
      },
      "file_extension": ".py",
      "mimetype": "text/x-python",
      "name": "python",
      "nbconvert_exporter": "python",
      "pygments_lexer": "ipython3",
      "version": "3.13.2"
    }
  },
  "nbformat": 4,
  "nbformat_minor": 0
}
